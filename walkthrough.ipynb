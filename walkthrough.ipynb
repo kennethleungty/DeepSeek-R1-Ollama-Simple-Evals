{
 "cells": [
  {
   "cell_type": "markdown",
   "id": "a33730e0-0b57-4dab-b2ec-a82beb2628df",
   "metadata": {},
   "source": [
    "## Run and Evaluate DeepSeek-R1 (distilled model) with Ollama and OpenAI's simple-evals\n",
    "### Notebook Walkthrough\n",
    "Author: Kenneth Leung\n",
    "___"
   ]
  },
  {
   "cell_type": "markdown",
   "id": "5f21906c-b8e8-4d70-8d84-e18ff04aa628",
   "metadata": {},
   "source": [
    "### (1) Installation Instructions\n",
    "- Download and install Ollama from https://ollama.com/download\n",
    "- To start Ollama, either open the Ollama app on your local machine, or run `ollama serve` in the terminal.\n",
    "- We will be experimenting with the distilled DeepSeek-R1-Distill-Qwen-14B and DeepSeek-R1-Distill-Qwen-7B models. Pull the models by running the following commands (separately) in terminal:\n",
    "  - `ollama pull deepseek-r1:14b`\n",
    "  - `ollama pull deepseek-r1:7b`\n",
    "- Once done, we return to this notebook to continue with the Python codes"
   ]
  },
  {
   "cell_type": "markdown",
   "id": "d66c95fe-f8af-43c6-8ade-e501bf6fca93",
   "metadata": {},
   "source": [
    "___\n",
    "### (2) Initial Setup"
   ]
  },
  {
   "cell_type": "code",
   "execution_count": null,
   "id": "fc6131a4-115c-4a07-bff7-9d83ae6b4a13",
   "metadata": {},
   "outputs": [],
   "source": [
    "import ollama\n",
    "import time\n",
    "from simple_evals.gpqa_eval import GPQAEval\n",
    "\n",
    "from datetime import datetime\n",
    "from pprint import pprint\n",
    "from utils.utils import load_config\n",
    "from utils.samplers.ollama_sampler import OllamaSampler"
   ]
  },
  {
   "cell_type": "code",
   "execution_count": 2,
   "id": "e5abb89b-a0e2-4156-856b-a1527746fbc4",
   "metadata": {},
   "outputs": [
    {
     "data": {
      "text/plain": [
       "{'MODEL_NAME': 'deepseek-r1:7b',\n",
       " 'EVAL_BENCHMARK': 'gpqa',\n",
       " 'GPQA_VARIANT': 'diamond',\n",
       " 'MATH_VARIANT': 'math_500_test',\n",
       " 'EVAL_N_REPEATS': 1,\n",
       " 'EVAL_N_EXAMPLES': 20}"
      ]
     },
     "execution_count": 2,
     "metadata": {},
     "output_type": "execute_result"
    }
   ],
   "source": [
    "config = load_config(\"config/config.yaml\")\n",
    "config"
   ]
  },
  {
   "cell_type": "code",
   "execution_count": 3,
   "id": "db30f7cd-cb61-4ce6-95bf-53df7ec4c0c9",
   "metadata": {},
   "outputs": [
    {
     "name": "stdout",
     "output_type": "stream",
     "text": [
      "('models',\n",
      " [Model(model='deepseek-r1:7b', modified_at=datetime.datetime(2025, 3, 12, 0, 54, 6, 263959, tzinfo=TzInfo(+08:00)), digest='0a8c266910232fd3291e71e5ba1e058cc5af9d411192cf88b6d30e92b6e73163', size=4683075271, details=ModelDetails(parent_model='', format='gguf', family='qwen2', families=['qwen2'], parameter_size='7.6B', quantization_level='Q4_K_M')),\n",
      "  Model(model='deepseek-r1:1.5b', modified_at=datetime.datetime(2025, 3, 12, 0, 49, 45, 270048, tzinfo=TzInfo(+08:00)), digest='a42b25d8c10a841bd24724309898ae851466696a7d7f3a0a408b895538ccbc96', size=1117322599, details=ModelDetails(parent_model='', format='gguf', family='qwen2', families=['qwen2'], parameter_size='1.8B', quantization_level='Q4_K_M'))])\n"
     ]
    }
   ],
   "source": [
    "# Confirm that our models have been downloaded\n",
    "for m in ollama.list():\n",
    "    pprint(m)"
   ]
  },
  {
   "cell_type": "markdown",
   "id": "560c8b93-9f8b-4fdd-8b28-f765353c56c2",
   "metadata": {},
   "source": [
    "___\n",
    "### (3) Single test run"
   ]
  },
  {
   "cell_type": "code",
   "execution_count": 5,
   "id": "f9cf65cb-74b1-4483-be37-fcf98b33fe02",
   "metadata": {},
   "outputs": [],
   "source": [
    "prompt = \"\"\"\n",
    "You are an advanced AI assistant analyzing an alien civilization’s mathematical system. \n",
    "They use an unfamiliar number system, and their number patterns follow unknown rules. \n",
    "You receive the following number sequences and must determine the missing number:\n",
    "\n",
    "Sequences:\n",
    "3, 6, 11, 18, 27, ?\n",
    "2, 6, 12, 20, 30, ?\n",
    "5, 10, 18, 30, 47, ?\n",
    "Rules:\n",
    "The aliens do not use base-10 but instead follow their own logical sequence.\n",
    "Each sequence follows a hidden pattern based on an unknown mathematical principle.\n",
    "You must determine the next number in each sequence and briefly explain the reasoning behind it.\n",
    "\n",
    "Ensure you initiate your response with \"<think>\\n at the beginning of your output.\n",
    "\"\"\""
   ]
  },
  {
   "cell_type": "code",
   "execution_count": 6,
   "id": "68e99753-d77e-44d3-b65e-482ac44063c3",
   "metadata": {
    "scrolled": true
   },
   "outputs": [
    {
     "name": "stdout",
     "output_type": "stream",
     "text": [
      "\n",
      "Execution Time: 26.50 sec\n",
      "\n",
      "<think>\n",
      "Okay, so I'm trying to figure out these three alien sequences. They don't use base-10, which is a bit confusing, but maybe the patterns are similar to something we understand in base-10 or another numbering system.\n",
      "\n",
      "Starting with the first sequence: 3, 6, 11, 18, 27, ?. Let's look at the differences between each number. \n",
      "\n",
      "From 3 to 6 is +3.\n",
      "Then from 6 to 11 is +5.\n",
      "Next, 11 to 18 is +7.\n",
      "Then 18 to 27 is +9.\n",
      "\n",
      "Oh, I see a pattern here: the increments are increasing by 2 each time. So it's like adding an odd number each step—3, then 5, 7, 9... That makes sense because those are consecutive odd numbers starting from 3. \n",
      "\n",
      "If that continues, the next increment should be +11. Adding 11 to 27 gives us 38.\n",
      "\n",
      "Moving on to the second sequence: 2, 6, 12, 20, 30, ?. Let's check the differences here too.\n",
      "\n",
      "From 2 to 6 is +4.\n",
      "6 to 12 is +6.\n",
      "12 to 20 is +8.\n",
      "20 to 30 is +10.\n",
      "\n",
      "So again, each time we're adding an even number that increases by 2: 4, 6, 8, 10... Following this pattern, the next increment should be +12. Adding that to 30 gives us 42.\n",
      "\n",
      "Now the third sequence: 5, 10, 18, 30, 47, ?. The differences here seem a bit trickier.\n",
      "\n",
      "From 5 to 10 is +5.\n",
      "10 to 18 is +8.\n",
      "18 to 30 is +12.\n",
      "30 to 47 is +17.\n",
      "\n",
      "Hmm, those increments are 5, 8, 12, 17... Let me see if there's a pattern here. The differences between these increments are:\n",
      "\n",
      "From 5 to 8: +3\n",
      "8 to 12: +4\n",
      "12 to 17: +5\n",
      "\n",
      "Oh! So the increase in the difference is itself increasing by 1 each time. That means the next increment should be +17 +6 = +23? Wait, no. Let me check:\n",
      "\n",
      "Wait, let's list the increments first: 5,8,12,17.\n",
      "\n",
      "The differences between these are:\n",
      "8-5=3\n",
      "12-8=4\n",
      "17-12=5\n",
      "\n",
      "So each time, we add one more to the difference: +3, then +4, then +5. So next would be adding +6? That seems like it's increasing by 1 each step.\n",
      "\n",
      "Wait no, actually the increments themselves are increasing by an additional 1 each time:\n",
      "\n",
      "From 5 (first increment) to 8 is +3\n",
      "Then from 8 to 12 is +4\n",
      "Then from 12 to 17 is +5\n",
      "\n",
      "So next would be adding +6. So if we add 6 to the last increment of +17, that gives us a new increment of +23.\n",
      "\n",
      "Adding 23 to 47 should give us 70? Wait, but I think I might have miscounted somewhere because 5+8=13, then +12=25, then +17=42... Hmm, maybe that's not right. Let me check again.\n",
      "\n",
      "Wait no, the sequence is 5,10,18,30,47,...\n",
      "\n",
      "So:\n",
      "\n",
      "Between 5 and 10: +5\n",
      "10 to 18: +8 (so total so far: 5+8=13)\n",
      "18 to 30: +12 (total increments added up: 5+8+12=25, but the sequence is at 30 now)\n",
      "Wait no, perhaps it's better to see each step as just adding the next increment.\n",
      "\n",
      "So if I have:\n",
      "\n",
      "Start with 5\n",
      "Add 5 → 10\n",
      "Add 8 → 18\n",
      "Add 12 → 30\n",
      "Add 17 →47\n",
      "\n",
      "Now, looking at the increments: 5,8,12,17. So what's next?\n",
      "\n",
      "The differences between these are +3, +4, +5.\n",
      "\n",
      "So it seems like each increment increases by 1 more than before.\n",
      "\n",
      "Thus, after adding 17 (which was an increase of 5 from 12), the next increase should be 6 added to the previous increment (17). So 17+6=23. Therefore, the next number is 47 +23 =70.\n",
      "\n",
      "Wait no, because 5 is the first increment, then 8 (+3), then 12 (+4), then 17 (+5). So each time, we add one more to the previous difference.\n",
      "\n",
      "So after adding 5 (increment of 5 from base?), wait this might not be correct. Maybe it's better to model it as a second-level sequence where the differences are increasing by 3,4,5,... So next increment would be +6?\n",
      "\n",
      "Wait no, let me write down:\n",
      "\n",
      "First differences: 5,8,12,17\n",
      "\n",
      "Compute second differences:\n",
      "8-5=3\n",
      "12-8=4\n",
      "17-12=5\n",
      "\n",
      "So the second-level differences are 3,4,5... Thus, next should be +6.\n",
      "\n",
      "Therefore, the third difference would be 5+6=11?\n",
      "\n",
      "Wait no, maybe I'm overcomplicating. The key is that the first differences (the increments) are themselves increasing by an additional 1 each time: from 5 to 8 (+3), then 8 to 12 (+4), then 12 to 17 (+5). So next increment should be +6.\n",
      "\n",
      "Thus, adding 17+6=23. Then the number after 47 would be 47+23=70.\n",
      "</think>\n",
      "\n",
      "The sequences are based on patterns where each sequence adds an increasing difference. \n",
      "\n",
      "For the first sequence: Each term increases by consecutive odd numbers (3,5,7,9,...). So, 27 +11 = 38.\n",
      "\n",
      "Second sequence: Each term increases by even numbers starting from 4 and increasing by 2 each time (4,6,8,10,...). Thus, 30+12=42.\n",
      "\n",
      "Third sequence: The differences between terms increase by adding an additional 1 each step. So after +5, the next difference is +6. Therefore, 47 +23 =70.\n",
      "\n",
      "The missing numbers are:\n",
      "\n",
      "First sequence: 38\n",
      "\n",
      "Second sequence: 42\n",
      "\n",
      "Third sequence: 70\n"
     ]
    }
   ],
   "source": [
    "start_time = time.time()\n",
    "response: ollama.ChatResponse = ollama.chat(model=config[\"MODEL_NAME\"], \n",
    "                                            messages=[\n",
    "                                              {'role': 'user',\n",
    "                                               'content': prompt},\n",
    "                                            ])\n",
    "end_time = time.time()\n",
    "execution_time = end_time - start_time\n",
    "minutes = int(execution_time // 60)\n",
    "seconds = execution_time % 60\n",
    "if minutes > 0:\n",
    "    print(f\"\\nExecution Time: {minutes} min {seconds:.2f} sec\\n\")\n",
    "else:\n",
    "    print(f\"\\nExecution Time: {seconds:.2f} sec\\n\")\n",
    "\n",
    "print(response['message']['content'])"
   ]
  },
  {
   "cell_type": "markdown",
   "id": "e2c3bd6b-18fb-4823-87d2-2b1dd3ae4ea3",
   "metadata": {},
   "source": [
    "___"
   ]
  },
  {
   "cell_type": "markdown",
   "id": "b0f7f305-39fb-4821-9b1b-7305da41d2e7",
   "metadata": {},
   "source": [
    "### (4) Initiate GPQA Evaluation"
   ]
  },
  {
   "cell_type": "code",
   "execution_count": null,
   "id": "b8907bdb-92da-49bd-af2a-74df8cdfe266",
   "metadata": {},
   "outputs": [],
   "source": [
    "start_time = time.time()\n",
    "\n",
    "# Load the Ollama wrapper that wraps ollama.chat() to format prompts correctly and retrieve responses for GPQA eval\n",
    "ollama_sampler = OllamaSampler(model_name=config[\"MODEL_NAME\"])\n",
    "\n",
    "# Instantiate the GPQAEval class for evaluation\n",
    "gpqa_eval = GPQAEval(num_examples=config[\"EVAL_N_EXAMPLES\"], \n",
    "                     n_repeats=config[\"EVAL_N_REPEATS\"],\n",
    "                     variant=config[\"GPQA_VARIANT\"])\n",
    "results = gpqa_eval(ollama_sampler)\n",
    "\n",
    "end_time = time.time()\n",
    "elapsed_seconds = end_time - start_time\n",
    "minutes, seconds = divmod(\n",
    "    elapsed_seconds, 60\n",
    ")"
   ]
  },
  {
   "cell_type": "code",
   "execution_count": null,
   "id": "ebbdf5f8-c749-423f-aa87-2f3311d78ac0",
   "metadata": {},
   "outputs": [
    {
     "name": "stdout",
     "output_type": "stream",
     "text": [
      "Overall Evaluation Metrics:\n",
      "Score:  0.1\n",
      "{'chars': np.float64(28495.9), 'chars:std': np.float64(13586.347985753935), 'score:std': np.float64(0.30000000000000004)}\n",
      "Total Execution Time: 25 min 37.46 sec\n"
     ]
    }
   ],
   "source": [
    "# The returned results is an EvalResult which includes a list of SingleEvalResult\n",
    "# and aggregated metrics. Print metrics:\n",
    "print(\"Overall Evaluation Metrics:\")\n",
    "print(\"Score: \", results.score)\n",
    "print(results.metrics)\n",
    "print(f\"Total Execution Time: {int(minutes)} min {seconds:.2f} sec\")"
   ]
  },
  {
   "cell_type": "code",
   "execution_count": 30,
   "id": "1d9d1b9d-1ffa-4e2f-97c8-b59e270b91fd",
   "metadata": {},
   "outputs": [],
   "source": [
    "# Save convo output from LLM\n",
    "timestamp = datetime.now().strftime(\"%Y%m%d_%H%M\")\n",
    "output_filename = f\"data/convos_output_{timestamp}.txt\"\n",
    "\n",
    "with open(output_filename, \"w\", encoding=\"utf-8\") as f:\n",
    "    for i in range(len(results.convos)):\n",
    "        f.write(f'### Conversation {i} ###\\n')\n",
    "        f.write(\"\\n\".join(map(str, results.convos[i])))\n",
    "        f.write(\"\\n\\n\")"
   ]
  }
 ],
 "metadata": {
  "kernelspec": {
   "display_name": "venv_deepseek_ollama",
   "language": "python",
   "name": "venv_deepseek_ollama"
  },
  "language_info": {
   "codemirror_mode": {
    "name": "ipython",
    "version": 3
   },
   "file_extension": ".py",
   "mimetype": "text/x-python",
   "name": "python",
   "nbconvert_exporter": "python",
   "pygments_lexer": "ipython3",
   "version": "3.11.5"
  }
 },
 "nbformat": 4,
 "nbformat_minor": 5
}
